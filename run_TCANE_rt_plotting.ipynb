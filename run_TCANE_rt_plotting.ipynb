{
 "cells": [
  {
   "cell_type": "code",
   "execution_count": 1,
   "id": "ebe5ab0d-6f52-4d25-9f97-1f66dd9b8640",
   "metadata": {
    "tags": []
   },
   "outputs": [],
   "source": [
    "import numpy as np\n",
    "import pandas as pd\n",
    "import os,glob,re,sys\n",
    "import matplotlib.pyplot as plt\n",
    "import seaborn as sns\n",
    "from io import StringIO\n",
    "import palettable\n",
    "from scipy.stats import skewnorm, rv_histogram\n",
    "import scipy.stats as sps\n",
    "from utils.tcane_data_funcs import climo_to_df, read_in_TCANE \n",
    "from utils.tcane_plotting import make_TCANE_dists_pdf_cdf, make_all_plotting_data \n",
    "from utils.bdeck_edeck_funcs import get_bdecks, get_edeck_probs\n",
    "from utils.tcane_track_plotting import get_plot_vars_TRACK\n",
    "from utils import plots\n",
    "from utils import mahalanobis\n",
    "from utils.plots import plot_probability_ellipses\n",
    "from utils.tcane_rt_plotting import TCANE_plots_intensity_forecasts, TCANE_plots_cat_and_RI_plots, TCANE_track_plots_with_climo, TCANE_track_plot_all, tcane_plotting_make_ALL\n",
    "import cartopy as ct\n",
    "import warnings\n",
    "from shapely.errors import ShapelyDeprecationWarning\n",
    "warnings.filterwarnings(\"ignore\", category=ShapelyDeprecationWarning)\n",
    "import scipy.stats as sps\n",
    "import os,glob,sys\n",
    "import cartopy.crs as ccrs"
   ]
  },
  {
   "cell_type": "code",
   "execution_count": 2,
   "id": "14d40f65-d009-446a-8ea7-4fd33bf24b87",
   "metadata": {
    "tags": []
   },
   "outputs": [],
   "source": [
    "import warnings\n",
    "warnings.simplefilter(action='error', category=FutureWarning)\n",
    "warnings.simplefilter(action='error', category=UserWarning)"
   ]
  },
  {
   "cell_type": "markdown",
   "id": "738efd2c-8c7a-42b0-93c5-f9e8dbbaa4d8",
   "metadata": {},
   "source": [
    "### `tcane_plotting_make_ALL`\n",
    "\n",
    "This function puts it all together and reads in the relevant files for the forecast specified by `storm_ID` and `forecast_ID`, calculates the TCANE forecast distribution, and makes the desired graphics. The TCANE graphics will be located in `Figures/storm_ID/`, and are saved in both PDF and PNG format. \n",
    "\n",
    "<b>Inputs</b>:\n",
    "* `in_dir`: Directory where the TCANE <b>input</b> files are located. This will change based on whichever machine you are running on, but should not change from one forecast to the next [str]\n",
    "* `out_dir`:Directory where the TCANE <b>output</b> files are located. This will change based on whichever machine you are running on, but should not change from one forecast to the next [str]\n",
    "* `clim_dir`: Directory where the TCANE <b>climatology</b> files are located. This will change based on whichever machine you are running on, but should not change from one forecast to the next [str]\n",
    "* `bdeck_dir`: Directory where the real-time ATCF b-deck and e-deck files rae located. This will change based on whichever machine you are running on, but should not change from one forecast to the next [str]\n",
    "* `storm_ID`: 8-character ATCF ID for the storm of interest. Should have the form of BBNNYYYY, where `BB` is the two-character storm basin, `NN` is the two character storm number (single digit numbers will begin with a 0, e.g., the 2nd storm of the year will be '02'), and `YYYY` is the four-character year. [str]\n",
    "* `forecast_ID`: 6-character forecast ID for the storm of interest. Should have the form of MMDDHH, where `MM` is month, `DD` is day, and `HH` is hour. [str]\n",
    "\n",
    "<b>Outputs</b>:\n",
    "A print statement indicating that the graphics have been made for `storm_ID`_`forecast_ID`"
   ]
  },
  {
   "cell_type": "code",
   "execution_count": 3,
   "id": "289386a4-1c5c-4db5-b5c8-37e2e330675b",
   "metadata": {
    "tags": []
   },
   "outputs": [],
   "source": [
    "out_dir = '/home/mcgraw/tcane_2024/output_files/'\n",
    "clim_dir = '/mnt/ssd-data1/galina/tcane/data/climo/'\n",
    "in_dir = '/home/mcgraw/tcane_2024/input_files/'\n",
    "bdeck_dir = '/mnt/ssd-data1/ATCF/TC-INGEST2/ATCF_RT/ATCF/dat/'\n",
    "# User input\n",
    "# storm_ID = str(input(\"Enter ID of storm to analyze (BBNNYYYY)\"))\n",
    "# fore_date = str(input(\"Enter desired forecast date (MMDDYY)\"))\n",
    "storm_ID = 'AL172023'\n",
    "fore_date = '100112'"
   ]
  },
  {
   "cell_type": "code",
   "execution_count": 4,
   "id": "f6fd0214-5b01-4e06-bd03-412454f690ab",
   "metadata": {
    "tags": []
   },
   "outputs": [
    {
     "name": "stdout",
     "output_type": "stream",
     "text": [
      "AL172023\n",
      "directory exists\n",
      "running case  AL172023_100112\n",
      "/mnt/ssd-data1/ATCF/TC-INGEST2/ATCF_RT/ATCF/dat/NHC/eal172023.dat\n",
      "make early and late forecasts please\n"
     ]
    },
    {
     "name": "stderr",
     "output_type": "stream",
     "text": [
      "/local/home/mcgraw/tcane_realtime_plotting/utils/tcane_data_funcs.py:169: RuntimeWarning: invalid value encountered in divide\n",
      "  pdf = count/np.sum(count)\n"
     ]
    },
    {
     "data": {
      "text/plain": [
       "('done running for ', 'AL172023', '_', '100112')"
      ]
     },
     "execution_count": 4,
     "metadata": {},
     "output_type": "execute_result"
    }
   ],
   "source": [
    "tcane_plotting_make_ALL(in_dir,out_dir,clim_dir,bdeck_dir,storm_ID,fore_date)"
   ]
  },
  {
   "cell_type": "code",
   "execution_count": null,
   "id": "73626d34-5aac-42a5-b869-0c5a5185eb79",
   "metadata": {},
   "outputs": [],
   "source": []
  }
 ],
 "metadata": {
  "kernelspec": {
   "display_name": "Python 3 (ipykernel)",
   "language": "python",
   "name": "python3"
  },
  "language_info": {
   "codemirror_mode": {
    "name": "ipython",
    "version": 3
   },
   "file_extension": ".py",
   "mimetype": "text/x-python",
   "name": "python",
   "nbconvert_exporter": "python",
   "pygments_lexer": "ipython3",
   "version": "3.9.19"
  }
 },
 "nbformat": 4,
 "nbformat_minor": 5
}
