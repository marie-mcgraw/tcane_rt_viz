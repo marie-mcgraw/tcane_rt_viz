{
 "cells": [
  {
   "cell_type": "code",
   "execution_count": 1,
   "id": "ebe5ab0d-6f52-4d25-9f97-1f66dd9b8640",
   "metadata": {
    "tags": []
   },
   "outputs": [],
   "source": [
    "import numpy as np\n",
    "import pandas as pd\n",
    "import os,glob,re,sys\n",
    "import matplotlib.pyplot as plt\n",
    "import seaborn as sns\n",
    "from io import StringIO\n",
    "import palettable\n",
    "from scipy.stats import skewnorm, rv_histogram\n",
    "import scipy.stats as sps\n",
    "from utils.tcane_data_funcs import climo_to_df, read_in_TCANE \n",
    "from utils.tcane_plotting import make_TCANE_dists_pdf_cdf, make_all_plotting_data \n",
    "from utils.bdeck_edeck_funcs import get_bdecks, get_edeck_probs\n",
    "from utils.tcane_track_plotting import get_plot_vars_TRACK\n",
    "from utils import plots\n",
    "from utils import mahalanobis\n",
    "from utils.plots import plot_probability_ellipses\n",
    "from utils.tcane_rt_plotting import TCANE_plots_intensity_forecasts, TCANE_plots_cat_and_RI_plots, TCANE_track_plots_with_climo, TCANE_track_plot_all, tcane_plotting_make_ALL\n",
    "import cartopy as ct\n",
    "import warnings\n",
    "from shapely.errors import ShapelyDeprecationWarning\n",
    "warnings.filterwarnings(\"ignore\", category=ShapelyDeprecationWarning)\n",
    "import scipy.stats as sps\n",
    "import os,glob,sys\n",
    "import cartopy.crs as ccrs"
   ]
  },
  {
   "cell_type": "code",
   "execution_count": 2,
   "id": "14d40f65-d009-446a-8ea7-4fd33bf24b87",
   "metadata": {
    "tags": []
   },
   "outputs": [],
   "source": [
    "import warnings\n",
    "warnings.simplefilter(action='error', category=FutureWarning)\n",
    "warnings.simplefilter(action='error', category=UserWarning)\n",
    "warnings.filterwarnings(\"ignore\", message=\"posx and posy should be finite values\")\n",
    "warnings.filterwarnings(\"ignore\")"
   ]
  },
  {
   "cell_type": "markdown",
   "id": "738efd2c-8c7a-42b0-93c5-f9e8dbbaa4d8",
   "metadata": {},
   "source": [
    "### `tcane_plotting_make_ALL`\n",
    "\n",
    "This function puts it all together and reads in the relevant files for the forecast specified by `storm_ID` and `forecast_ID`, calculates the TCANE forecast distribution, and makes the desired graphics. The TCANE graphics will be located in `Figures/storm_ID/`, and are saved in both PDF and PNG format. \n",
    "\n",
    "<b>Inputs</b>:\n",
    "* `in_dir`: Directory where the TCANE <b>input</b> files are located. This will change based on whichever machine you are running on, but should not change from one forecast to the next [str]\n",
    "* `out_dir`:Directory where the TCANE <b>output</b> files are located. This will change based on whichever machine you are running on, but should not change from one forecast to the next [str]\n",
    "* `clim_dir`: Directory where the TCANE <b>climatology</b> files are located. This will change based on whichever machine you are running on, but should not change from one forecast to the next [str]\n",
    "* `bdeck_dir`: Directory where the real-time ATCF b-deck and e-deck files rae located. This will change based on whichever machine you are running on, but should not change from one forecast to the next [str]\n",
    "* `storm_ID`: 8-character ATCF ID for the storm of interest. Should have the form of BBNNYYYY, where `BB` is the two-character storm basin, `NN` is the two character storm number (single digit numbers will begin with a 0, e.g., the 2nd storm of the year will be '02'), and `YYYY` is the four-character year. [str]\n",
    "* `forecast_ID`: 6-character forecast ID for the storm of interest. Should have the form of MMDDHH, where `MM` is month, `DD` is day, and `HH` is hour. [str]\n",
    "\n",
    "<b>Outputs</b>:\n",
    "A print statement indicating that the graphics have been made for `storm_ID`_`forecast_ID`"
   ]
  },
  {
   "cell_type": "code",
   "execution_count": 5,
   "id": "4c6cd69f-671f-45a1-860a-ca5705e59d57",
   "metadata": {
    "tags": []
   },
   "outputs": [],
   "source": [
    "out_dir = '/mnt/ssd-data1/projects/tcane/nhc_tcane_dev/data/output/tcane_viz_output/'\n",
    "clim_dir = '/mnt/ssd-data1/projects/tcane/nhc_tcane_dev/data/input/climo/'\n",
    "in_dir = '/mnt/ssd-data1/projects/tcane/nhc_tcane_dev/data/input/tcane_viz_input/'\n",
    "bdeck_dir = '/mnt/ssd-data1/ATCF/TC-INGEST2/ATCF_RT/ATCF/dat/'\n",
    "#\n",
    "storm_ID = 'AL092024'\n",
    "fore_date = '2024092400'"
   ]
  },
  {
   "cell_type": "code",
   "execution_count": 6,
   "id": "f6fd0214-5b01-4e06-bd03-412454f690ab",
   "metadata": {
    "scrolled": true,
    "tags": []
   },
   "outputs": [
    {
     "name": "stdout",
     "output_type": "stream",
     "text": [
      "AL092024\n",
      "directory exists\n",
      "running case  AL092024_092400\n",
      "/mnt/ssd-data1/ATCF/TC-INGEST2/ATCF_RT/ATCF/dat/NHC/eal092024.dat\n",
      "make early and late forecasts please\n"
     ]
    },
    {
     "name": "stderr",
     "output_type": "stream",
     "text": [
      "posx and posy should be finite values\n",
      "posx and posy should be finite values\n",
      "posx and posy should be finite values\n",
      "posx and posy should be finite values\n",
      "posx and posy should be finite values\n",
      "posx and posy should be finite values\n",
      "posx and posy should be finite values\n",
      "posx and posy should be finite values\n",
      "posx and posy should be finite values\n",
      "posx and posy should be finite values\n",
      "posx and posy should be finite values\n",
      "posx and posy should be finite values\n",
      "posx and posy should be finite values\n",
      "posx and posy should be finite values\n",
      "posx and posy should be finite values\n",
      "posx and posy should be finite values\n",
      "posx and posy should be finite values\n",
      "posx and posy should be finite values\n",
      "posx and posy should be finite values\n",
      "posx and posy should be finite values\n",
      "posx and posy should be finite values\n",
      "posx and posy should be finite values\n",
      "posx and posy should be finite values\n",
      "posx and posy should be finite values\n",
      "posx and posy should be finite values\n",
      "posx and posy should be finite values\n",
      "posx and posy should be finite values\n",
      "posx and posy should be finite values\n",
      "posx and posy should be finite values\n",
      "posx and posy should be finite values\n",
      "posx and posy should be finite values\n",
      "posx and posy should be finite values\n"
     ]
    },
    {
     "data": {
      "text/plain": [
       "('done running for ', 'AL092024', '_', '2024092400')"
      ]
     },
     "execution_count": 6,
     "metadata": {},
     "output_type": "execute_result"
    }
   ],
   "source": [
    "tcane_plotting_make_ALL(in_dir,out_dir,clim_dir,bdeck_dir,storm_ID,fore_date)"
   ]
  },
  {
   "cell_type": "code",
   "execution_count": null,
   "id": "71963da9",
   "metadata": {},
   "outputs": [],
   "source": []
  }
 ],
 "metadata": {
  "kernelspec": {
   "display_name": "Python 3 (ipykernel)",
   "language": "python",
   "name": "python3"
  },
  "language_info": {
   "codemirror_mode": {
    "name": "ipython",
    "version": 3
   },
   "file_extension": ".py",
   "mimetype": "text/x-python",
   "name": "python",
   "nbconvert_exporter": "python",
   "pygments_lexer": "ipython3",
   "version": "3.9.19"
  }
 },
 "nbformat": 4,
 "nbformat_minor": 5
}
